{
 "cells": [
  {
   "cell_type": "markdown",
   "metadata": {},
   "source": [
    "This exercise will require you to pull some data from the Qunadl API. Qaundl is currently the most widely used aggregator of financial market data."
   ]
  },
  {
   "cell_type": "markdown",
   "metadata": {},
   "source": [
    "As a first step, you will need to register a free account on the http://www.quandl.com website."
   ]
  },
  {
   "cell_type": "markdown",
   "metadata": {},
   "source": [
    "After you register, you will be provided with a unique API key, that you should store:"
   ]
  },
  {
   "cell_type": "code",
   "execution_count": null,
   "metadata": {
    "collapsed": true
   },
   "outputs": [],
   "source": [
    "# Store the API key as a string - according to PEP8, constants are always named in all upper case\n",
    "API_KEY = ''"
   ]
  },
  {
   "cell_type": "markdown",
   "metadata": {},
   "source": [
    "Qaundl has a large number of data sources, but, unfortunately, most of them require a Premium subscription. Still, there are also a good number of free datasets."
   ]
  },
  {
   "cell_type": "markdown",
   "metadata": {},
   "source": [
    "For this mini project, we will focus on equities data from the Frankfurt Stock Exhange (FSE), which is available for free. We'll try and analyze the stock prices of a company called Carl Zeiss Meditec, which manufactures tools for eye examinations, as well as medical lasers for laser eye surgery: https://www.zeiss.com/meditec/int/home.html. The company is listed under the stock ticker AFX_X."
   ]
  },
  {
   "cell_type": "markdown",
   "metadata": {},
   "source": [
    "You can find the detailed Quandl API instructions here: https://docs.quandl.com/docs/time-series"
   ]
  },
  {
   "cell_type": "markdown",
   "metadata": {},
   "source": [
    "While there is a dedicated Python package for connecting to the Quandl API, we would prefer that you use the *requests* package, which can be easily downloaded using *pip* or *conda*. You can find the documentation for the package here: http://docs.python-requests.org/en/master/ "
   ]
  },
  {
   "cell_type": "markdown",
   "metadata": {},
   "source": [
    "Finally, apart from the *requests* package, you are encouraged to not use any third party Python packages, such as *pandas*, and instead focus on what's available in the Python Standard Library (the *collections* module might come in handy: https://pymotw.com/3/collections/ ).\n",
    "Also, since you won't have access to DataFrames, you are encouraged to us Python's native data structures - preferably dictionaries, though some questions can also be answered using lists.\n",
    "You can read more on these data structures here: https://docs.python.org/3/tutorial/datastructures.html"
   ]
  },
  {
   "cell_type": "markdown",
   "metadata": {},
   "source": [
    "Keep in mind that the JSON responses you will be getting from the API map almost one-to-one to Python's dictionaries. Unfortunately, they can be very nested, so make sure you read up on indexing dictionaries in the documentation provided above."
   ]
  },
  {
   "cell_type": "code",
   "execution_count": 117,
   "metadata": {},
   "outputs": [],
   "source": [
    "# First, import the relevant modules\n",
    "import requests\n",
    "from statistics import mean"
   ]
  },
  {
   "cell_type": "code",
   "execution_count": 136,
   "metadata": {},
   "outputs": [
    {
     "name": "stdout",
     "output_type": "stream",
     "text": [
      "{'dataset': {'id': 10095370, 'dataset_code': 'AFX_X', 'database_code': 'FSE', 'name': 'Carl Zeiss Meditec (AFX_X)', 'description': 'Stock Prices for Carl Zeiss Meditec (AFX) from the Frankfurt Stock Exchange.<br><br>Trading System: Xetra<br><br>ISIN: DE0005313704', 'refreshed_at': '2019-05-06T22:31:14.486Z', 'newest_available_date': '2019-05-06', 'oldest_available_date': '2000-06-07', 'column_names': ['Date', 'Open', 'High', 'Low', 'Close', 'Change', 'Traded Volume', 'Turnover', 'Last Price of the Day', 'Daily Traded Units', 'Daily Turnover'], 'frequency': 'daily', 'type': 'Time Series', 'premium': False, 'limit': None, 'transform': None, 'column_index': None, 'start_date': '2017-01-05', 'end_date': '2017-01-05', 'data': [['2017-01-05', 35.02, 35.2, 34.73, 35.06, None, 48412.0, 1692326.0, None, None, None]], 'collapse': None, 'order': None, 'database_id': 6129}}\n"
     ]
    }
   ],
   "source": [
    "# Now, call the Quandl API and pull out a small sample of the data (only one day) to get a glimpse\n",
    "# into the JSON structure that will be returned\n",
    "#Set the API url to the one corresponding to Carl Zeiss. Set Filter in the URL  to retrieve data for Jan 5th, 2017 (Thursday) to examine the data\n",
    "api_url_weekday = \"https://www.quandl.com/api/v3/datasets/FSE/AFX_X?start_date=2017-01-05&end_date=2017-01-05&api_key=\"\n",
    "session = requests.Session()\n",
    "session.mount('http://', requests.adapters.HTTPAdapter(max_retries=3))\n",
    "raw_data_weekday = session.get(api_url_weekday)\n",
    "afx_stock_weekday=raw_data_weekday.json()\n",
    "print(afx_stock_weekday)"
   ]
  },
  {
   "cell_type": "code",
   "execution_count": 138,
   "metadata": {},
   "outputs": [
    {
     "name": "stdout",
     "output_type": "stream",
     "text": [
      "{'dataset': {'id': 10095370, 'dataset_code': 'AFX_X', 'database_code': 'FSE', 'name': 'Carl Zeiss Meditec (AFX_X)', 'description': 'Stock Prices for Carl Zeiss Meditec (AFX) from the Frankfurt Stock Exchange.<br><br>Trading System: Xetra<br><br>ISIN: DE0005313704', 'refreshed_at': '2019-05-06T22:31:14.486Z', 'newest_available_date': '2019-05-06', 'oldest_available_date': '2000-06-07', 'column_names': ['Date', 'Open', 'High', 'Low', 'Close', 'Change', 'Traded Volume', 'Turnover', 'Last Price of the Day', 'Daily Traded Units', 'Daily Turnover'], 'frequency': 'daily', 'type': 'Time Series', 'premium': False, 'limit': None, 'transform': None, 'column_index': None, 'start_date': '2017-01-07', 'end_date': '2017-01-07', 'data': [], 'collapse': None, 'order': None, 'database_id': 6129}}\n"
     ]
    }
   ],
   "source": [
    "# Now let us examine the data on weekend when stock market is closed. Jan 7,2017 was Saturday.\n",
    "# We notice that the entire data column is empty\n",
    "api_url_weekend = \"https://www.quandl.com/api/v3/datasets/FSE/AFX_X?start_date=2017-01-07&end_date=2017-01-07&api_key=\"\n",
    "session = requests.Session()\n",
    "session.mount('http://', requests.adapters.HTTPAdapter(max_retries=3))\n",
    "raw_data_weekend = session.get(api_url_weekend)\n",
    "afx_stock_weekend=raw_data_weekend.json()\n",
    "print(afx_stock_weekend)"
   ]
  },
  {
   "cell_type": "code",
   "execution_count": 145,
   "metadata": {},
   "outputs": [
    {
     "name": "stdout",
     "output_type": "stream",
     "text": [
      "The highest opening price for the stock in 2017 was $ 53.11\n",
      "The lowest opening price for the stock in 2017 was $ 34.0\n",
      "THe largest intra-day range for the stock in any one day of 2017 was $ 2.81\n",
      "The largest difference between closing price for consecutive days in 2017 was $ 2.56\n",
      "The average daily trading volume for the stock in 2017 was 89124.34\n",
      "The median trading volume for the stock in 2017 was 76286\n"
     ]
    }
   ],
   "source": [
    "# Retrieve data for whole of 2017\n",
    "api_url = \"https://www.quandl.com/api/v3/datasets/FSE/AFX_X?start_date=2017-01-01&end_date=2017-12-31&api_key=\"\n",
    "session = requests.Session()\n",
    "session.mount('http://', requests.adapters.HTTPAdapter(max_retries=3))\n",
    "raw_data = session.get(api_url)\n",
    "\n",
    "# Return json data as dict\n",
    "afx_stock = raw_data.json()\n",
    "\n",
    "# Extract a list of lists containing stock data for all the entries for this year\n",
    "data_list=afx_stock['dataset']['data']\n",
    "\n",
    "# Extract a list containing the entries under the column_names (such as 'Date','Open','High' etc.)\n",
    "column_list=afx_stock['dataset']['column_names']\n",
    "\n",
    "# Create a list of dictionaries by zipping column_list with data_list so we have the column names as keys and data as values\n",
    "zip_column_data=[zip(item_list,data_list_item) for data_list_item in data_list]\n",
    "stock_info=[]\n",
    "for item in zip_column_data:\n",
    "    stock_info.append(dict(item))\n",
    "    \n",
    "# Define a function which takes a list as argument and returns only non-null values (To take care of None values \n",
    "# corresponding to weekends)\n",
    "def non_null_list(input_list):\n",
    "    output_list=[i for i in input_list if i]\n",
    "    return output_list\n",
    "\n",
    "#Creating list of the opening price of the day from stock_info list of dicts\n",
    "open_list=non_null_list([dict_item['Open'] for dict_item in stock_info])\n",
    "\n",
    "#Extract maximum and minimum of opening price for whole year\n",
    "max_open_price=max(open_list)\n",
    "min_open_price=min(open_list)\n",
    "\n",
    "# Create two lists which contain all the highs and lows of the stock respectively\n",
    "high_list=non_null_list([dict_item['High'] for dict_item in stock_info])\n",
    "low_list = non_null_list([dict_item['Low'] for dict_item in stock_info])\n",
    "\n",
    "# Create a list which stores the difference of the high price and the low price and calculate the maximum intra-day price change\n",
    "price_change_list=[x-y for x,y in zip(high_list,low_list)]\n",
    "max_price_change=round(max(price_change_list),2)\n",
    "\n",
    "# Create a list with closing price and create another list with closing price difference for consecutive days\n",
    "close_list=non_null_list([dict_item['Close'] for dict_item in stock_info])\n",
    "close_change_list=[close_list[i+1]-close_list[i] for i in range(len(close_list)-1)] #list of closing price diff for consecutive days\n",
    "\n",
    "# Printing max difference between closing price for consecutive days\n",
    "max_close_price_diff=round(max(close_change_list),2)\n",
    "\n",
    "# Create list of the trading volume for each day and calculate the average traded volume for the whole year\n",
    "trading_vol_list=non_null_list([dict_item['Traded Volume'] for dict_item in stock_info])\n",
    "average_traded_vol=round(mean(trading_vol_list),2)\n",
    "\n",
    "# Define a function which returns median from a list of numbers\n",
    "def median_calc(list_vol):\n",
    "    list_vol.sort()\n",
    "    len_list=len(list_vol)\n",
    "    if len_list%2==0:\n",
    "        median_list=((list_vol[int(len_list/2)]+list_vol[int((len_list)/2-1)]))/2\n",
    "    else:\n",
    "        median_list=list_vol[int(len_list/2)]\n",
    "    return int(median_list)\n",
    "\n",
    "# Calculate median using the function defined above\n",
    "median_trading_vol=median_calc(trading_vol_list)  \n",
    "\n",
    "## Print out the required quantities ##\n",
    "\n",
    "print(\"The highest opening price for the stock in 2017 was $\",max_open_price)\n",
    "print(\"The lowest opening price for the stock in 2017 was $\",min_open_price)\n",
    "print(\"THe largest intra-day range for the stock in any one day of 2017 was $\", max_price_change)\n",
    "print(\"The largest difference between closing price for consecutive days in 2017 was $\",max_close_price_diff)\n",
    "print(\"The average daily trading volume for the stock in 2017 was\", average_traded_vol)\n",
    "print(\"The median trading volume for the stock in 2017 was\",median_trading_vol )\n"
   ]
  },
  {
   "cell_type": "markdown",
   "metadata": {},
   "source": [
    "These are your tasks for this mini project:\n",
    "\n",
    "1. Collect data from the Franfurt Stock Exchange, for the ticker AFX_X, for the whole year 2017 (keep in mind that the date format is YYYY-MM-DD).\n",
    "2. Convert the returned JSON object into a Python dictionary.\n",
    "3. Calculate what the highest and lowest opening prices were for the stock in this period.\n",
    "4. What was the largest change in any one day (based on High and Low price)?\n",
    "5. What was the largest change between any two days (based on Closing Price)?\n",
    "6. What was the average daily trading volume during this year?\n",
    "7. (Optional) What was the median trading volume during this year. (Note: you may need to implement your own function for calculating the median.)"
   ]
  },
  {
   "cell_type": "code",
   "execution_count": null,
   "metadata": {},
   "outputs": [],
   "source": []
  }
 ],
 "metadata": {
  "kernelspec": {
   "display_name": "Python 3",
   "language": "python",
   "name": "python3"
  },
  "language_info": {
   "codemirror_mode": {
    "name": "ipython",
    "version": 3
   },
   "file_extension": ".py",
   "mimetype": "text/x-python",
   "name": "python",
   "nbconvert_exporter": "python",
   "pygments_lexer": "ipython3",
   "version": "3.7.1"
  }
 },
 "nbformat": 4,
 "nbformat_minor": 2
}
